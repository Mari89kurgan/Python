{
 "cells": [
  {
   "cell_type": "markdown",
   "id": "3c73f11e",
   "metadata": {},
   "source": [
    "### Дана функция f(x) = x^3 - 6x^2 + 4x + 12\n",
    "1. Определить корни\n",
    "2. Найти интервалы, на которых функция возрастает\n",
    "3. Найти интервалы, на которых функция убывает\n",
    "4. Построить график\n",
    "5. Вычислить вершину\n",
    "6. Определить промежутки, на котором f > 0\n",
    "7. Определить промежутки, на котором f < 0"
   ]
  },
  {
   "cell_type": "code",
   "execution_count": 1,
   "id": "178b1848",
   "metadata": {},
   "outputs": [],
   "source": [
    "import matplotlib.pyplot as plt\n",
    "import sympy as sp\n",
    "import numpy as np"
   ]
  },
  {
   "cell_type": "markdown",
   "id": "998c3e9b",
   "metadata": {},
   "source": [
    "#### 1. Определить корни"
   ]
  },
  {
   "cell_type": "markdown",
   "id": "4ffed16d",
   "metadata": {},
   "source": [
    "Решение с помощью библиотеки: __nympy__"
   ]
  },
  {
   "cell_type": "code",
   "execution_count": 2,
   "id": "dcae9bab",
   "metadata": {},
   "outputs": [],
   "source": [
    "func = [1, -6, 4, 12]"
   ]
  },
  {
   "cell_type": "code",
   "execution_count": 3,
   "id": "40ecc1dd",
   "metadata": {},
   "outputs": [
    {
     "data": {
      "text/plain": [
       "(4.534070196722723, 2.517304045008306, -1.051374241731037)"
      ]
     },
     "execution_count": 3,
     "metadata": {},
     "output_type": "execute_result"
    }
   ],
   "source": [
    "root_1, root_2, root_3 = np.roots(func)\n",
    "root_1, root_2, root_3"
   ]
  },
  {
   "cell_type": "markdown",
   "id": "f4599d0e",
   "metadata": {},
   "source": [
    "Решение с помощью библиотеки: __sympy__"
   ]
  },
  {
   "cell_type": "code",
   "execution_count": 4,
   "id": "17ac19d0",
   "metadata": {},
   "outputs": [],
   "source": [
    "x = sp.Symbol('x')\n",
    "y = x ** 3 - 6 * x ** 2 + 4 * x + 12"
   ]
  },
  {
   "cell_type": "code",
   "execution_count": 5,
   "id": "8768093a",
   "metadata": {},
   "outputs": [
    {
     "data": {
      "text/plain": [
       "[2 - 8/((-1/2 - sqrt(3)*I/2)*(54 + 6*sqrt(303)*I)**(1/3)) - (-1/2 - sqrt(3)*I/2)*(54 + 6*sqrt(303)*I)**(1/3)/3,\n",
       " 2 - (-1/2 + sqrt(3)*I/2)*(54 + 6*sqrt(303)*I)**(1/3)/3 - 8/((-1/2 + sqrt(3)*I/2)*(54 + 6*sqrt(303)*I)**(1/3)),\n",
       " 2 - (54 + 6*sqrt(303)*I)**(1/3)/3 - 8/(54 + 6*sqrt(303)*I)**(1/3)]"
      ]
     },
     "execution_count": 5,
     "metadata": {},
     "output_type": "execute_result"
    }
   ],
   "source": [
    "roots = sp.solve(y)\n",
    "roots"
   ]
  },
  {
   "cell_type": "markdown",
   "id": "0c2118f1",
   "metadata": {},
   "source": [
    "#### 2. Найти интервалы, на которых функция возрастает"
   ]
  },
  {
   "cell_type": "markdown",
   "id": "7bacb3ed",
   "metadata": {},
   "source": [
    "Решение с помощью библиотеки: __sympy__"
   ]
  },
  {
   "cell_type": "code",
   "execution_count": 6,
   "id": "6b28b321",
   "metadata": {},
   "outputs": [
    {
     "data": {
      "text/latex": [
       "$\\displaystyle 3 x^{2} - 12 x + 4$"
      ],
      "text/plain": [
       "3*x**2 - 12*x + 4"
      ]
     },
     "execution_count": 6,
     "metadata": {},
     "output_type": "execute_result"
    }
   ],
   "source": [
    "df = sp.diff(y)\n",
    "df"
   ]
  },
  {
   "cell_type": "code",
   "execution_count": 7,
   "id": "b883487e",
   "metadata": {},
   "outputs": [
    {
     "data": {
      "text/latex": [
       "$\\displaystyle \\left(-\\infty < x \\wedge x < 2 - \\frac{2 \\sqrt{6}}{3}\\right) \\vee \\left(x < \\infty \\wedge \\frac{2 \\sqrt{6}}{3} + 2 < x\\right)$"
      ],
      "text/plain": [
       "((-oo < x) & (x < 2 - 2*sqrt(6)/3)) | ((x < oo) & (2*sqrt(6)/3 + 2 < x))"
      ]
     },
     "execution_count": 7,
     "metadata": {},
     "output_type": "execute_result"
    }
   ],
   "source": [
    "sp.solve(df>0)"
   ]
  },
  {
   "cell_type": "markdown",
   "id": "174ebb02",
   "metadata": {},
   "source": [
    "#### 3.Найти интервалы, на которых функция убывает"
   ]
  },
  {
   "cell_type": "markdown",
   "id": "72300d4a",
   "metadata": {},
   "source": [
    "Решение с помощью библиотеки: __sympy__"
   ]
  },
  {
   "cell_type": "code",
   "execution_count": 8,
   "id": "144dce69",
   "metadata": {},
   "outputs": [
    {
     "data": {
      "text/latex": [
       "$\\displaystyle x < \\frac{2 \\sqrt{6}}{3} + 2 \\wedge 2 - \\frac{2 \\sqrt{6}}{3} < x$"
      ],
      "text/plain": [
       "(x < 2*sqrt(6)/3 + 2) & (2 - 2*sqrt(6)/3 < x)"
      ]
     },
     "execution_count": 8,
     "metadata": {},
     "output_type": "execute_result"
    }
   ],
   "source": [
    "sp.solve(df<0)"
   ]
  },
  {
   "cell_type": "markdown",
   "id": "5c259f60",
   "metadata": {},
   "source": [
    "#### 4. Построить график"
   ]
  },
  {
   "cell_type": "code",
   "execution_count": 9,
   "id": "082fac3f",
   "metadata": {},
   "outputs": [],
   "source": [
    "x_value = list(range(-2, 8))\n",
    "y_value = [x ** 3 - 6 * x ** 2 + 4 * x + 12 for x in x_value]"
   ]
  },
  {
   "cell_type": "code",
   "execution_count": 10,
   "id": "ddb60455",
   "metadata": {},
   "outputs": [
    {
     "data": {
      "image/png": "[encoded data removed]",
      "text/plain": [
       "<Figure size 640x480 with 1 Axes>"
      ]
     },
     "metadata": {},
     "output_type": "display_data"
    }
   ],
   "source": [
    "plt.axes(facecolor='#f5d08c')\n",
    "plt.plot(x_value, y_value)\n",
    "ax = plt.gca()\n",
    "ax.spines['left'].set_position('zero')\n",
    "ax.spines['right'].set_position('zero')\n",
    "ax.spines['top'].set_position('zero')\n",
    "ax.spines['bottom'].set_position('zero')\n",
    "plt.show()"
   ]
  },
  {
   "cell_type": "markdown",
   "id": "a30582d8",
   "metadata": {},
   "source": [
    "#### 6. Вычислить вершины"
   ]
  },
  {
   "cell_type": "markdown",
   "id": "39a03b14",
   "metadata": {},
   "source": [
    "Решение с помощью библиотеки: __nympy__"
   ]
  },
  {
   "cell_type": "code",
   "execution_count": 11,
   "id": "f24d341d",
   "metadata": {},
   "outputs": [
    {
     "data": {
      "text/plain": [
       "array([  3, -12,   4])"
      ]
     },
     "execution_count": 11,
     "metadata": {},
     "output_type": "execute_result"
    }
   ],
   "source": [
    "first_derivative = np.polyder(func)\n",
    "first_derivative"
   ]
  },
  {
   "cell_type": "code",
   "execution_count": 12,
   "id": "8388fd82",
   "metadata": {},
   "outputs": [
    {
     "data": {
      "text/plain": [
       "(3.6329931618554525, 0.3670068381445479)"
      ]
     },
     "execution_count": 12,
     "metadata": {},
     "output_type": "execute_result"
    }
   ],
   "source": [
    "x_1, x_2 = np.roots(first_derivative)\n",
    "x_1, x_2"
   ]
  },
  {
   "cell_type": "code",
   "execution_count": 13,
   "id": "f2a36e06",
   "metadata": {},
   "outputs": [],
   "source": [
    "y_1 = np.polyval(func, x_1)\n",
    "y_2 = np.polyval(func, x_2)"
   ]
  },
  {
   "cell_type": "code",
   "execution_count": 14,
   "id": "ee4b689b",
   "metadata": {},
   "outputs": [
    {
     "name": "stdout",
     "output_type": "stream",
     "text": [
      "График имеет две вершины:\n",
      "Точка максимум функции: (0.3670068381445479, 12.709296863229078)\n",
      "Точка минимума  функции: (3.6329931618554525, -4.709296863229078)\n"
     ]
    }
   ],
   "source": [
    "print(f'График имеет две вершины:\\nТочка максимум функции: {x_2, y_2}\\nТочка минимума  функции: {x_1, y_1}')"
   ]
  },
  {
   "cell_type": "markdown",
   "id": "3b764e2b",
   "metadata": {},
   "source": [
    "#### 6. Определить промежутки, на котором f > 0"
   ]
  },
  {
   "cell_type": "markdown",
   "id": "6fdc85fe",
   "metadata": {},
   "source": [
    "Решение с помощью библиотеки: __sympy__"
   ]
  },
  {
   "cell_type": "code",
   "execution_count": 15,
   "id": "8f2d7665",
   "metadata": {},
   "outputs": [
    {
     "data": {
      "text/latex": [
       "$\\displaystyle \\left(x < \\infty \\wedge \\operatorname{CRootOf} {\\left(x^{3} - 6 x^{2} + 4 x + 12, 2\\right)} < x\\right) \\vee \\left(x < \\operatorname{CRootOf} {\\left(x^{3} - 6 x^{2} + 4 x + 12, 1\\right)} \\wedge \\operatorname{CRootOf} {\\left(x^{3} - 6 x^{2} + 4 x + 12, 0\\right)} < x\\right)$"
      ],
      "text/plain": [
       "((x < oo) & (CRootOf(x**3 - 6*x**2 + 4*x + 12, 2) < x)) | ((x < CRootOf(x**3 - 6*x**2 + 4*x + 12, 1)) & (CRootOf(x**3 - 6*x**2 + 4*x + 12, 0) < x))"
      ]
     },
     "execution_count": 15,
     "metadata": {},
     "output_type": "execute_result"
    }
   ],
   "source": [
    "sp.solve(y>0)"
   ]
  },
  {
   "cell_type": "markdown",
   "id": "524c99e9",
   "metadata": {},
   "source": [
    "#### 7. Определить промежутки, на котором f < 0"
   ]
  },
  {
   "cell_type": "markdown",
   "id": "3e4fb1ed",
   "metadata": {},
   "source": [
    "Решение с помощью библиотеки: __sympy__"
   ]
  },
  {
   "cell_type": "code",
   "execution_count": 16,
   "id": "253b90f0",
   "metadata": {},
   "outputs": [
    {
     "data": {
      "text/latex": [
       "$\\displaystyle \\left(-\\infty < x \\wedge x < \\operatorname{CRootOf} {\\left(x^{3} - 6 x^{2} + 4 x + 12, 0\\right)}\\right) \\vee \\left(x < \\operatorname{CRootOf} {\\left(x^{3} - 6 x^{2} + 4 x + 12, 2\\right)} \\wedge \\operatorname{CRootOf} {\\left(x^{3} - 6 x^{2} + 4 x + 12, 1\\right)} < x\\right)$"
      ],
      "text/plain": [
       "((-oo < x) & (x < CRootOf(x**3 - 6*x**2 + 4*x + 12, 0))) | ((x < CRootOf(x**3 - 6*x**2 + 4*x + 12, 2)) & (CRootOf(x**3 - 6*x**2 + 4*x + 12, 1) < x))"
      ]
     },
     "execution_count": 16,
     "metadata": {},
     "output_type": "execute_result"
    }
   ],
   "source": [
    "sp.solve(y<0)"
   ]
  }
 ],
 "metadata": {
  "kernelspec": {
   "display_name": "Python 3 (ipykernel)",
   "language": "python",
   "name": "python3"
  },
  "language_info": {
   "codemirror_mode": {
    "name": "ipython",
    "version": 3
   },
   "file_extension": ".py",
   "mimetype": "text/x-python",
   "name": "python",
   "nbconvert_exporter": "python",
   "pygments_lexer": "ipython3",
   "version": "3.9.13"
  }
 },
 "nbformat": 4,
 "nbformat_minor": 5
}
